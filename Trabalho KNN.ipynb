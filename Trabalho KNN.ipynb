{
 "cells": [
  {
   "cell_type": "markdown",
   "metadata": {
    "id": "cVxcr2UTjE5J"
   },
   "source": [
    "# Exercício KNN"
   ]
  },
  {
   "cell_type": "markdown",
   "metadata": {},
   "source": [
    "Neste exercício, utilizei um código já existente, que faz uso do Iris Dataset e fazendo uso da biblioteca Numpy desenvolvi uma função para algoritmo KNN prever a classe de uma nova planta uma vez que as 4 características sejam fornecidas."
   ]
  },
  {
   "cell_type": "code",
   "execution_count": null,
   "metadata": {
    "id": "iBjEH0RjjE5M"
   },
   "outputs": [],
   "source": [
    "import numpy as np\n",
    "import pandas as pd\n",
    "from sklearn import datasets\n",
    "from sklearn.model_selection import train_test_split"
   ]
  },
  {
   "cell_type": "code",
   "execution_count": null,
   "metadata": {
    "id": "g_3kjvNhjE5O"
   },
   "outputs": [],
   "source": [
    "iris = datasets.load_iris()"
   ]
  },
  {
   "cell_type": "code",
   "execution_count": null,
   "metadata": {
    "id": "G-af8NPcjE5P"
   },
   "outputs": [],
   "source": [
    "X = iris.data\n",
    "y = iris.target\n",
    "target_names = np.array(iris.target_names)"
   ]
  },
  {
   "cell_type": "code",
   "execution_count": null,
   "metadata": {
    "colab": {
     "base_uri": "https://localhost:8080/"
    },
    "id": "zB-xD9OhjE5R",
    "outputId": "64020997-cd78-4def-83af-95b76019c6e5"
   },
   "outputs": [
    {
     "name": "stdout",
     "output_type": "stream",
     "text": [
      "(105, 4) (105,)\n"
     ]
    }
   ],
   "source": [
    "X_train, X_test, y_train, y_test = train_test_split(X, y, test_size = 0.30, random_state = 33)\n",
    "print(X_train.shape, y_train.shape)"
   ]
  },
  {
   "cell_type": "code",
   "execution_count": null,
   "metadata": {
    "id": "jKB2GYD7jE5R"
   },
   "outputs": [],
   "source": [
    "def distancia_euclidiana(att1, att2):\n",
    "    dist = 0\n",
    "    for i in range(len(att1)):\n",
    "        dist += pow((att1[i] - att2[i]),2)\n",
    "    return np.sqrt(dist)"
   ]
  },
  {
   "cell_type": "markdown",
   "metadata": {},
   "source": [
    "### Função criada"
   ]
  },
  {
   "cell_type": "code",
   "execution_count": null,
   "metadata": {
    "id": "DNVmjo-ajE5S"
   },
   "outputs": [],
   "source": [
    "def KNN(array, k):\n",
    "    distances = []\n",
    "    for item in array:\n",
    "        distances.append([distancia_euclidiana(item, x) for x in X_train])\n",
    "    classify = []\n",
    "    for item in distances:\n",
    "        i = 0\n",
    "        smallers = []\n",
    "        while i < k:\n",
    "            smallers.append(y_train[item.index(min(item))])\n",
    "            item[item.index(min(item))] = np.nan\n",
    "            i += 1\n",
    "        classify.append(smallers)\n",
    "    result = [i.index(max(i)) for i in [[i.count(0), i.count(1), i.count(2)] for i in classify]]\n",
    "    return result"
   ]
  },
  {
   "cell_type": "markdown",
   "metadata": {},
   "source": [
    "----"
   ]
  },
  {
   "cell_type": "code",
   "execution_count": null,
   "metadata": {
    "id": "JCH_vMEWjE5S"
   },
   "outputs": [],
   "source": [
    "y_test_pred = KNN(X_test, 5)\n",
    "y_test_prediction = np.asarray(y_test_pred)"
   ]
  },
  {
   "cell_type": "code",
   "execution_count": null,
   "metadata": {
    "colab": {
     "base_uri": "https://localhost:8080/"
    },
    "id": "IsjSfr9cjE5T",
    "outputId": "eb703718-9d3e-42a7-c787-711c5e8f8952"
   },
   "outputs": [
    {
     "data": {
      "text/plain": [
       "95.55555555555556"
      ]
     },
     "metadata": {},
     "output_type": "display_data"
    }
   ],
   "source": [
    "acc = y_test - y_test_prediction\n",
    "err = np.count_nonzero(acc)\n",
    "acuracia = ((len(y_test) - err) / len(y_test)) * 100\n",
    "acuracia"
   ]
  },
  {
   "cell_type": "code",
   "execution_count": null,
   "metadata": {
    "colab": {
     "base_uri": "https://localhost:8080/"
    },
    "id": "mWwnAiqdjE5T",
    "outputId": "5d36ead4-ef58-458c-82aa-a8534b5c6c1d"
   },
   "outputs": [
    {
     "data": {
      "text/plain": [
       "[1, 0, 0, 2, 2]"
      ]
     },
     "metadata": {},
     "output_type": "display_data"
    }
   ],
   "source": [
    "previsoes = KNN([[6.7,3.1,4.4,1.4],[4.6,3.2,1.4,0.2],[4.6,3.2,1.4,0.2],[6.4,3.1,5.5,1.8],[6.3,3.2,5.6,1.9]], 3)\n",
    "previsoes"
   ]
  },
  {
   "cell_type": "code",
   "execution_count": null,
   "metadata": {
    "colab": {
     "base_uri": "https://localhost:8080/"
    },
    "id": "YDStIWjijE5U",
    "outputId": "f47ebb5e-27cb-4f35-8f98-c989da3b66f2"
   },
   "outputs": [
    {
     "data": {
      "text/plain": [
       "[1, 0, 0, 2, 2]"
      ]
     },
     "metadata": {},
     "output_type": "display_data"
    }
   ],
   "source": [
    "previsoes = KNN([[6.7,3.1,4.4,1.4],[4.6,3.2,1.4,0.2],[4.6,3.2,1.4,0.2],[6.4,3.1,5.5,1.8],[6.3,3.2,5.6,1.9]], 5)\n",
    "previsoes"
   ]
  }
 ],
 "metadata": {
  "language_info": {
   "name": "python"
  },
  "orig_nbformat": 4
 },
 "nbformat": 4,
 "nbformat_minor": 2
}
